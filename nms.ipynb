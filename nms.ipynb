{
  "nbformat": 4,
  "nbformat_minor": 0,
  "metadata": {
    "colab": {
      "name": "nms.ipynb",
      "provenance": [],
      "collapsed_sections": [],
      "authorship_tag": "ABX9TyNFb8hyVsQ76doU5Zycz9XB",
      "include_colab_link": true
    },
    "kernelspec": {
      "name": "python3",
      "display_name": "Python 3"
    }
  },
  "cells": [
    {
      "cell_type": "markdown",
      "metadata": {
        "id": "view-in-github",
        "colab_type": "text"
      },
      "source": [
        "<a href=\"https://colab.research.google.com/github/JSJeong-me/Object_tracking/blob/main/nms.ipynb\" target=\"_parent\"><img src=\"https://colab.research.google.com/assets/colab-badge.svg\" alt=\"Open In Colab\"/></a>"
      ]
    },
    {
      "cell_type": "code",
      "metadata": {
        "id": "BpgMAGW7oZjW"
      },
      "source": [
        "def nms(dets, thresh=0.65):\r\n",
        "    x1 = dets[:, 0]\r\n",
        "    y1 = dets[:, 1]\r\n",
        "    x2 = dets[:, 2]\r\n",
        "    y2 = dets[:, 3]\r\n",
        "    scores = dets[:, 4]\r\n",
        "\r\n",
        "    areas = (x2 - x1 + 1) * (y2 - y1 + 1)\r\n",
        "    order = scores.argsort()[::-1]\r\n",
        "\r\n",
        "    keep = []\r\n",
        "    while order.size > 0:\r\n",
        "        i = order[0]\r\n",
        "        keep.append(i)\r\n",
        "        xx1 = np.maximum(x1[i], x1[order[1:]])\r\n",
        "        yy1 = np.maximum(y1[i], y1[order[1:]])\r\n",
        "        xx2 = np.minimum(x2[i], x2[order[1:]])\r\n",
        "        yy2 = np.minimum(y2[i], y2[order[1:]])\r\n",
        "\r\n",
        "        w = np.maximum(0.0, xx2 - xx1 + 1)\r\n",
        "        h = np.maximum(0.0, yy2 - yy1 + 1)\r\n",
        "        inter = w * h\r\n",
        "        ovr = inter / (areas[i] + areas[order[1:]] - inter)\r\n",
        "\r\n",
        "        inds = np.where(ovr <= thresh)[0]\r\n",
        "        order = order[inds + 1]\r\n",
        "\r\n",
        "    return keep"
      ],
      "execution_count": null,
      "outputs": []
    }
  ]
}