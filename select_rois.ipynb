{
 "cells": [
  {
   "cell_type": "code",
   "execution_count": null,
   "metadata": {},
   "outputs": [],
   "source": []
  },
  {
   "cell_type": "code",
   "execution_count": 1,
   "metadata": {},
   "outputs": [
    {
     "name": "stdout",
     "output_type": "stream",
     "text": [
      "(247, 173, 243, 213)\n"
     ]
    },
    {
     "data": {
      "text/plain": [
       "27"
      ]
     },
     "execution_count": 1,
     "metadata": {},
     "output_type": "execute_result"
    }
   ],
   "source": [
    " \n",
    "import cv2\n",
    "import numpy as np\n",
    " \n",
    " #image_path\n",
    "img_path=\"frame0.jpg\"\n",
    " \n",
    "#read image\n",
    "img_raw = cv2.imread(img_path)\n",
    " \n",
    "#select ROI function\n",
    "roi = cv2.selectROI(img_raw)\n",
    " \n",
    "#print rectangle points of selected roi\n",
    "print(roi)\n",
    " \n",
    "#Crop selected roi from raw image\n",
    "roi_cropped = img_raw[int(roi[1]):int(roi[1]+roi[3]), int(roi[0]):int(roi[0]+roi[2])]\n",
    " \n",
    "#show cropped image\n",
    "cv2.imshow(\"ROI\", roi_cropped)\n",
    " \n",
    "cv2.imwrite(\"crop.jpg\",roi_cropped)\n",
    " \n",
    "#hold window\n",
    "cv2.waitKey(0)"
   ]
  }
 ],
 "metadata": {
  "kernelspec": {
   "display_name": "Python 3",
   "language": "python",
   "name": "python3"
  },
  "language_info": {
   "codemirror_mode": {
    "name": "ipython",
    "version": 3
   },
   "file_extension": ".py",
   "mimetype": "text/x-python",
   "name": "python",
   "nbconvert_exporter": "python",
   "pygments_lexer": "ipython3",
   "version": "3.7.6"
  }
 },
 "nbformat": 4,
 "nbformat_minor": 4
}
