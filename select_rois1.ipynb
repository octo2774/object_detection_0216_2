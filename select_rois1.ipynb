{
 "cells": [
  {
   "cell_type": "code",
   "execution_count": null,
   "metadata": {},
   "outputs": [],
   "source": []
  },
  {
   "cell_type": "code",
   "execution_count": 1,
   "metadata": {},
   "outputs": [],
   "source": [
    "import cv2\n",
    "import numpy as np\n",
    " \n",
    "#image_path\n",
    "img_path=\"frame0.jpg\""
   ]
  },
  {
   "cell_type": "code",
   "execution_count": 2,
   "metadata": {},
   "outputs": [
    {
     "name": "stdout",
     "output_type": "stream",
     "text": [
      "[[ 30 101  65  41]\n",
      " [365 105 190 121]]\n"
     ]
    }
   ],
   "source": [
    "#read image\n",
    "img_raw = cv2.imread(img_path)\n",
    " \n",
    "#select ROIs function\n",
    "ROIs = cv2.selectROIs(\"Select Rois\",img_raw)\n",
    " \n",
    "#print rectangle points of selected roi\n",
    "print(ROIs)"
   ]
  },
  {
   "cell_type": "code",
   "execution_count": 3,
   "metadata": {},
   "outputs": [
    {
     "ename": "IndentationError",
     "evalue": "unexpected indent (<ipython-input-3-7fa3efa95e04>, line 18)",
     "output_type": "error",
     "traceback": [
      "\u001b[1;36m  File \u001b[1;32m\"<ipython-input-3-7fa3efa95e04>\"\u001b[1;36m, line \u001b[1;32m18\u001b[0m\n\u001b[1;33m    cv2.imshow(\"crop\"+str(crop_number),img_crop)\u001b[0m\n\u001b[1;37m    ^\u001b[0m\n\u001b[1;31mIndentationError\u001b[0m\u001b[1;31m:\u001b[0m unexpected indent\n"
     ]
    }
   ],
   "source": [
    "#Crop selected roi ffrom raw image\n",
    " \n",
    "#counter to save image with different name\n",
    "crop_number=0 \n",
    " \n",
    "#loop over every bounding box save in array \"ROIs\"\n",
    "for rect in ROIs:\n",
    " x1=rect[0]\n",
    " y1=rect[1]\n",
    " x2=rect[2]\n",
    " y2=rect[3]\n",
    "\n",
    " \n",
    "        #crop roi from original image\n",
    " img_crop=img_raw[y1:y1+y2,x1:x1+x2]\n",
    " \n",
    "        #show cropped image\n",
    "        cv2.imshow(\"crop\"+str(crop_number),img_crop)\n",
    " \n",
    " #save cropped image\n",
    " cv2.imwrite(\"crop\"+str(crop_number)+\".jpg\",img_crop)\n",
    "        \n",
    " crop_number+=1\n",
    " \n",
    "#hold window\n",
    "cv2.waitKey(0)"
   ]
  },
  {
   "cell_type": "code",
   "execution_count": null,
   "metadata": {},
   "outputs": [],
   "source": []
  }
 ],
 "metadata": {
  "kernelspec": {
   "display_name": "Python 3",
   "language": "python",
   "name": "python3"
  },
  "language_info": {
   "codemirror_mode": {
    "name": "ipython",
    "version": 3
   },
   "file_extension": ".py",
   "mimetype": "text/x-python",
   "name": "python",
   "nbconvert_exporter": "python",
   "pygments_lexer": "ipython3",
   "version": "3.7.6"
  }
 },
 "nbformat": 4,
 "nbformat_minor": 4
}
