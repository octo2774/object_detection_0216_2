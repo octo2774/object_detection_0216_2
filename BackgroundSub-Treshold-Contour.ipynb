{
 "cells": [
  {
   "cell_type": "code",
   "execution_count": 1,
   "metadata": {},
   "outputs": [],
   "source": [
    "### http://www.gisdeveloper.co.kr/?p=6862\n",
    "### https://docs.opencv.org/3.4/d2/d55/group__bgsegm.html"
   ]
  },
  {
   "cell_type": "code",
   "execution_count": 2,
   "metadata": {},
   "outputs": [],
   "source": [
    "import numpy as np\n",
    "import cv2\n",
    "\n",
    "cap = cv2.VideoCapture(\"B3-Parking.avi\")\n",
    "fgbg = cv2.createBackgroundSubtractorKNN(history=100, dist2Threshold = 16.0, detectShadows=False)\n",
    "while(1):\n",
    "    ret, frame = cap.read()\n",
    "    fgmask = fgbg.apply(frame)\n",
    "    \n",
    "    _, fgmask = cv2.threshold(fgmask, 244, 255, cv2.THRESH_BINARY)\n",
    "    \n",
    "    contours, _ = cv2.findContours(fgmask, cv2.RETR_TREE, cv2.CHAIN_APPROX_SIMPLE)\n",
    "    detections = []\n",
    "    for cnt in contours:\n",
    "        # Calculate area and remove small elements\n",
    "        area = cv2.contourArea(cnt)\n",
    "        if area > 200:\n",
    "            #cv2.drawContours(roi, [cnt], -1, (0, 255, 0), 2)\n",
    "            x, y, w, h = cv2.boundingRect(cnt)\n",
    "\n",
    "\n",
    "            detections.append([x, y, w, h])\n",
    "\n",
    "    \n",
    "    cv2.imshow('frame',fgmask)\n",
    "    k = cv2.waitKey(30) & 0xff\n",
    "    if k == 27:\n",
    "        break\n",
    "cap.release()\n",
    "cv2.destroyAllWindows()"
   ]
  }
 ],
 "metadata": {
  "kernelspec": {
   "display_name": "Python 3",
   "language": "python",
   "name": "python3"
  },
  "language_info": {
   "codemirror_mode": {
    "name": "ipython",
    "version": 3
   },
   "file_extension": ".py",
   "mimetype": "text/x-python",
   "name": "python",
   "nbconvert_exporter": "python",
   "pygments_lexer": "ipython3",
   "version": "3.7.6"
  }
 },
 "nbformat": 4,
 "nbformat_minor": 4
}
