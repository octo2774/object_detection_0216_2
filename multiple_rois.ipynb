{
 "cells": [
  {
   "cell_type": "code",
   "execution_count": null,
   "metadata": {},
   "outputs": [],
   "source": []
  },
  {
   "cell_type": "code",
   "execution_count": 3,
   "metadata": {},
   "outputs": [],
   "source": [
    "import cv2\n",
    "refPt = []"
   ]
  },
  {
   "cell_type": "code",
   "execution_count": null,
   "metadata": {},
   "outputs": [],
   "source": [
    "def show():\n",
    "    global image, refPt\n",
    "    # create a copy so the drawn rectangles wont show up in subimages\n",
    "    img_copy = image.copy()\n",
    "    # create a subimage in a separate window\n",
    "    # similar code can be used that checks if 4 points are selected, then saves the subimages and exits script\n",
    "    i = 0\n",
    "    for rect in refPt:\n",
    "        subimage = img_copy[rect[0][1]:rect[1][1],rect[0][0]:rect[1][0]]\n",
    "        cv2.imshow(\"image\"+str(i), subimage)\n",
    "        i += 1\n",
    "    # draw rectangle on full image \n",
    "    for rect in refPt:\n",
    "        cv2.rectangle(img_copy, rect[0], rect[1], (0, 255, 0), 2)\n",
    "    # show full image\n",
    "    cv2.imshow(\"image\", img_copy)\n",
    "\n",
    "\n",
    "def click_and_crop(event, x, y, flags, param):\n",
    "    global refPt\n",
    "    if event == cv2.EVENT_LBUTTONUP:\n",
    "        # create tuples with two opposite cornerpoints and add to list\n",
    "        point_a = (x-70,y-70)\n",
    "        point_b = (x+70,y+70)\n",
    "        refPt.append((point_a,point_b))\n",
    "        # show images\n",
    "        show()\n",
    "\n",
    "\n",
    "# load and display image\n",
    "image = cv2.imread('frame0.jpg')\n",
    "#image = cv2.imread('opencv-template-matching-python-tutorial.jpg')\n",
    "cv2.namedWindow(\"image\")\n",
    "cv2.setMouseCallback(\"image\", click_and_crop)\n",
    "show()\n",
    "\n",
    "cv2.waitKey(0)\n",
    "cv2.destroyAllWindows()"
   ]
  },
  {
   "cell_type": "code",
   "execution_count": null,
   "metadata": {},
   "outputs": [],
   "source": []
  }
 ],
 "metadata": {
  "kernelspec": {
   "display_name": "Python 3",
   "language": "python",
   "name": "python3"
  },
  "language_info": {
   "codemirror_mode": {
    "name": "ipython",
    "version": 3
   },
   "file_extension": ".py",
   "mimetype": "text/x-python",
   "name": "python",
   "nbconvert_exporter": "python",
   "pygments_lexer": "ipython3",
   "version": "3.7.6"
  }
 },
 "nbformat": 4,
 "nbformat_minor": 4
}
